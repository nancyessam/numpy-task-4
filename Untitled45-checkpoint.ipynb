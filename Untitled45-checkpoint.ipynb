{
 "cells": [
  {
   "cell_type": "code",
   "execution_count": 1,
   "metadata": {},
   "outputs": [
    {
     "name": "stdout",
     "output_type": "stream",
     "text": [
      "[ 1.66671548  1.03688868 -0.46594862  1.1218665  -0.10671501]\n"
     ]
    }
   ],
   "source": [
    "#numpy random#\n",
    "#1-Write a NumPy program to generate five random numbers from the normal distribution\n",
    "import numpy as np\n",
    "r = np.random.normal(size=5)\n",
    "print(r)"
   ]
  },
  {
   "cell_type": "code",
   "execution_count": 2,
   "metadata": {},
   "outputs": [
    {
     "name": "stdout",
     "output_type": "stream",
     "text": [
      "Original Array:\n",
      "[[0.13135509 0.77307215 0.50199087 0.50896672 0.68671811]\n",
      " [0.41641846 0.96864281 0.3062701  0.78712115 0.58293743]\n",
      " [0.55909065 0.74171746 0.10629075 0.1645353  0.40816929]\n",
      " [0.31386958 0.67202696 0.87480462 0.22573193 0.75565726]\n",
      " [0.56811971 0.20161582 0.7507052  0.55828968 0.77129929]]\n",
      "Minimum and Maximum Values:\n",
      "0.1062907534311015 0.9686428069513469\n"
     ]
    }
   ],
   "source": [
    "#2-Write a NumPy program to create a 5x5 array with random values and find the minimum and maximum values. \n",
    "import numpy as np\n",
    "x = np.random.random((5,5))\n",
    "print(\"Original Array:\")\n",
    "print(x) \n",
    "xmin, xmax = x.min(), x.max()\n",
    "print(\"Minimum and Maximum Values:\")\n",
    "print(xmin, xmax)"
   ]
  },
  {
   "cell_type": "code",
   "execution_count": 3,
   "metadata": {},
   "outputs": [
    {
     "name": "stdout",
     "output_type": "stream",
     "text": [
      "[9 7 4 5 2 6 1 8 3 0]\n",
      "Same result using permutation():\n",
      "[8 4 9 1 7 6 5 0 2 3]\n"
     ]
    }
   ],
   "source": [
    "#3-Write a NumPy program to shuffle numbers between 0 and 10 (inclusive). \n",
    "import numpy as np\n",
    "\n",
    "x = np.arange(10)\n",
    "np.random.shuffle(x)\n",
    "\n",
    "print(x)\n",
    "print(\"Same result using permutation():\")\n",
    "print(np.random.permutation(10))"
   ]
  },
  {
   "cell_type": "code",
   "execution_count": 4,
   "metadata": {},
   "outputs": [
    {
     "name": "stdout",
     "output_type": "stream",
     "text": [
      "Original array:\n",
      "[0.91348953 0.208884   0.63942624 0.49591115 0.34969288 0.35436949\n",
      " 0.82719378 0.6806618  0.70265783 0.65873933]\n",
      "Sorted array:\n",
      "[0.208884   0.34969288 0.35436949 0.49591115 0.63942624 0.65873933\n",
      " 0.6806618  0.70265783 0.82719378 0.91348953]\n"
     ]
    }
   ],
   "source": [
    "#4-Write a NumPy program to create a random vector of size 10 and sort it. \n",
    "import numpy as np\n",
    "x = np.random.random(10)\n",
    "print(\"Original array:\")\n",
    "print(x)\n",
    "x.sort()\n",
    "print(\"Sorted array:\")\n",
    "print(x)"
   ]
  },
  {
   "cell_type": "code",
   "execution_count": 5,
   "metadata": {},
   "outputs": [
    {
     "name": "stdout",
     "output_type": "stream",
     "text": [
      "Array is :  [12 40 65 78 10 99 30]\n",
      "Value to which nearest element is to be found:  85\n",
      "Nearest element to the given values is :  78\n",
      "Index of nearest value is :  3\n"
     ]
    }
   ],
   "source": [
    "#5-Write a NumPy program to find the nearest value from a given value in an array\n",
    "import numpy as np\n",
    "arr = np.array([12, 40, 65, 78, 10, 99, 30])\n",
    "print(\"Array is : \", arr)\n",
    "x = 85\n",
    "print(\"Value to which nearest element is to be found: \", x)\n",
    "difference_array = np.absolute(arr-x)\n",
    "index = difference_array.argmin()\n",
    "print(\"Nearest element to the given values is : \", arr[index])\n",
    "print(\"Index of nearest value is : \", index)\n"
   ]
  },
  {
   "cell_type": "code",
   "execution_count": 6,
   "metadata": {},
   "outputs": [
    {
     "name": "stdout",
     "output_type": "stream",
     "text": [
      "First array:\n",
      "[0 1 0 1 0 0]\n",
      "Second array:\n",
      "[1 1 0 1 0 0]\n",
      "Test above two arrays are equal or not!\n",
      "False\n"
     ]
    }
   ],
   "source": [
    "#6-Write a NumPy program to check two random arrays are equal or not\n",
    "import numpy as np\n",
    "x = np.random.randint(0,2,6)\n",
    "print(\"First array:\")\n",
    "print(x)\n",
    "y = np.random.randint(0,2,6)\n",
    "print(\"Second array:\")\n",
    "print(y)\n",
    "print(\"Test above two arrays are equal or not!\")\n",
    "array_equal = np.allclose(x, y)\n",
    "print(array_equal)"
   ]
  },
  {
   "cell_type": "code",
   "execution_count": 7,
   "metadata": {},
   "outputs": [
    {
     "name": "stdout",
     "output_type": "stream",
     "text": [
      "[0.38268585 0.60732008 1.19110238 0.6737837  0.76166925 0.97627494\n",
      " 0.24663181 1.07793325 0.68025555 0.67828324]\n",
      "[1.50039165 1.51539537 0.790602   0.95548939 1.49627786 1.02885288\n",
      " 1.4531562  0.99113485 0.30863198 0.50859917]\n"
     ]
    }
   ],
   "source": [
    "#7-Write a NumPy program to find point by point distances of a random vector with shape (10,2) representing coordinates. \n",
    "import numpy as np\n",
    "z= np.random.random((10,2))\n",
    "x,y = z[:,0], z[:,1]\n",
    "r = np.sqrt(x**2+y**2)\n",
    "t = np.arctan2(y,x)\n",
    "print(r)\n",
    "print(t)"
   ]
  },
  {
   "cell_type": "code",
   "execution_count": 8,
   "metadata": {},
   "outputs": [
    {
     "name": "stdout",
     "output_type": "stream",
     "text": [
      "Original array:\n",
      "[1 2 3 4 5 1 2 1 1 1]\n",
      "Most frequent value in the above array:\n",
      "1\n"
     ]
    }
   ],
   "source": [
    " #8 Write a NumPy program to find the most frequent value in an array. Go to the editor\n",
    "import numpy as np\n",
    "x = np.array([1,2,3,4,5,1,2,1,1,1])\n",
    "print(\"Original array:\")\n",
    "print(x)\n",
    "print(\"Most frequent value in the above array:\")\n",
    "print(np.bincount(x).argmax())\n"
   ]
  },
  {
   "cell_type": "code",
   "execution_count": 9,
   "metadata": {},
   "outputs": [
    {
     "name": "stdout",
     "output_type": "stream",
     "text": [
      "Given array: [2 0 1 5 4 1 9]\n",
      "Sorted array: [0 1 1 2 4 5 9]\n",
      "3 largest value: [4 5 9]\n"
     ]
    }
   ],
   "source": [
    "#9-Write a NumPy program to get the n largest values of an array. \n",
    "# import library\n",
    "import numpy as np\n",
    "arr = np.array([2, 0, 1, 5,\n",
    "\t\t\t\t4, 1, 9])\n",
    "\n",
    "print(\"Given array:\", arr)\n",
    "sorted_index_array = np.argsort(arr)\n",
    "sorted_array = arr[sorted_index_array]\n",
    "print(\"Sorted array:\", sorted_array)\n",
    "n = 3\n",
    "rslt = sorted_array[-n : ]\n",
    "print(\"{} largest value:\".format(n),\n",
    "\trslt)\n"
   ]
  },
  {
   "cell_type": "code",
   "execution_count": 10,
   "metadata": {},
   "outputs": [
    {
     "name": "stdout",
     "output_type": "stream",
     "text": [
      "[[[215  42 224 219  43]\n",
      "  [166  69  15 133 255]\n",
      "  [105  95  54  37 201]\n",
      "  ...\n",
      "  [240  22  66 232 132]\n",
      "  [ 13  85  53 220 170]\n",
      "  [249  62 221 146  69]]\n",
      "\n",
      " [[ 73  79 148 132 164]\n",
      "  [  3  93  98 138 200]\n",
      "  [174  34  31 208 130]\n",
      "  ...\n",
      "  [ 15 252  41  64  39]\n",
      "  [188 216 223 124  27]\n",
      "  [ 85 112 240 116 231]]\n",
      "\n",
      " [[227  50 243  20 171]\n",
      "  [ 12  66 108 102  63]\n",
      "  [107  54   0   0 173]\n",
      "  ...\n",
      "  [215  46  57  99 151]\n",
      "  [243 199  31  28 179]\n",
      "  [143   7  30 175 190]]\n",
      "\n",
      " ...\n",
      "\n",
      " [[214  64  64 212  62]\n",
      "  [140  44 217  17 164]\n",
      "  [226 146 247  53 199]\n",
      "  ...\n",
      "  [189  68  49 117  63]\n",
      "  [ 14  17 109  82  92]\n",
      "  [155 221 135 184 231]]\n",
      "\n",
      " [[132 194 160 136 102]\n",
      "  [132 244 230 117 181]\n",
      "  [146 245  21 164  29]\n",
      "  ...\n",
      "  [125 240 243 190 240]\n",
      "  [137  41 157 117 155]\n",
      "  [ 20  92  72 182  41]]\n",
      "\n",
      " [[120  45 198 218 190]\n",
      "  [ 42 150 190 103 106]\n",
      "  [164  71 220 114  59]\n",
      "  ...\n",
      "  [143  20 219 154  85]\n",
      "  [219 190 170 227 246]\n",
      "  [ 39  14 127 230 158]]]\n"
     ]
    }
   ],
   "source": [
    "#10-Write a NumPy program to create a three-dimension array with shape (300,400,5) and set to a variable. Fill the array elements with values using unsigned integer (0 to 255). \n",
    "import numpy as np   \n",
    "np.random.seed(32) \n",
    "nums = np.random.randint(low=0, high=256, size=(300, 400, 5), dtype=np.uint8)\n",
    "print(nums)"
   ]
  }
 ],
 "metadata": {
  "kernelspec": {
   "display_name": "Python 3",
   "language": "python",
   "name": "python3"
  },
  "language_info": {
   "codemirror_mode": {
    "name": "ipython",
    "version": 3
   },
   "file_extension": ".py",
   "mimetype": "text/x-python",
   "name": "python",
   "nbconvert_exporter": "python",
   "pygments_lexer": "ipython3",
   "version": "3.8.5"
  }
 },
 "nbformat": 4,
 "nbformat_minor": 4
}
